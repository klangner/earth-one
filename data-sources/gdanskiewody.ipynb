{
 "nbformat": 4,
 "nbformat_minor": 2,
 "metadata": {
  "language_info": {
   "name": "python",
   "codemirror_mode": {
    "name": "ipython",
    "version": 3
   },
   "version": "3.7.6-final"
  },
  "orig_nbformat": 2,
  "file_extension": ".py",
  "mimetype": "text/x-python",
  "name": "python",
  "npconvert_exporter": "python",
  "pygments_lexer": "ipython3",
  "version": 3,
  "kernelspec": {
   "name": "python37664bitvenvvenv93610700a6db406a8a0876d8f1068b6c",
   "display_name": "Python 3.7.6 64-bit ('venv': venv)"
  }
 },
 "cells": [
  {
   "cell_type": "markdown",
   "execution_count": null,
   "metadata": {},
   "outputs": [],
   "source": [
    "# Gdanskie Wody\n",
    "System pomiarów meteorologicznych i hydrologicznych aglomeracji gdańskiej\n",
    "\n",
    "URL: https://pomiary.gdanskiewody.pl/account/dashboard\n",
    "\n",
    "This notebook loads all data available at the given source and saves it in the data folder."
   ]
  },
  {
   "cell_type": "code",
   "execution_count": null,
   "metadata": {},
   "outputs": [],
   "source": [
    "import requests\n",
    "import pandas as pd\n",
    "import datetime\n",
    "from pathlib import Path\n",
    "import configparser\n",
    "\n",
    "# Create output folder\n",
    "today = datetime.datetime.now()\n",
    "OUTPUT_DIR = Path('../data/gdanskiewody/' + today.strftime('%Y-%m-%d'))\n",
    "OUTPUT_DIR.mkdir(parents=True, exist_ok=True)\n",
    "# Load secrets\n",
    "config = configparser.ConfigParser()                                     \n",
    "config.read('../secrets.ini')\n",
    "HTTP_HEADERS = {'Authorization': 'Bearer {}'.format(config['API_KEYS']['GDANSKIE_WODY'])};"
   ]
  },
  {
   "cell_type": "markdown",
   "execution_count": null,
   "metadata": {},
   "outputs": [],
   "source": [
    "## Load list of stations"
   ]
  },
  {
   "cell_type": "code",
   "execution_count": null,
   "metadata": {},
   "outputs": [],
   "source": [
    "response = requests.get('https://pomiary.gdanskiewody.pl/rest/stations', headers=HTTP_HEADERS)\n",
    "response_data = response.json()\n",
    "stations = pd.DataFrame(response_data['data']).set_index('no')\n",
    "stations.to_csv(OUTPUT_DIR /' stations.csv')\n",
    "stations"
   ]
  },
  {
   "cell_type": "markdown",
   "execution_count": null,
   "metadata": {},
   "outputs": [],
   "source": [
    "## Load example station\n",
    "\n",
    "The API allows to query single sensor for a single day. So to take all data we need to ask the API for each:\n",
    "  * station\n",
    "  * sensor\n",
    "  * date"
   ]
  },
  {
   "cell_type": "code",
   "execution_count": null,
   "metadata": {},
   "outputs": [],
   "source": [
    "response = requests.get('https://pomiary.gdanskiewody.pl/rest/measurements/1/rain/2019-05-10', headers=HTTP_HEADERS)\n",
    "response_data = response.json()\n",
    "rain = pd.Series(response_data['data'])\n",
    "rain"
   ]
  }
 ]
}